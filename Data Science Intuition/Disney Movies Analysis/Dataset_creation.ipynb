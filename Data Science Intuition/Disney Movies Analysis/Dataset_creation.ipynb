{
 "cells": [
  {
   "cell_type": "markdown",
   "metadata": {},
   "source": [
    "# Walt Disney Pictures Films Data Set Creation\n",
    "**Wikipedia:** [List of Walt Disney Pictures films](https://en.wikipedia.org/wiki/List_of_Walt_Disney_Pictures_films)\n"
   ]
  },
  {
   "cell_type": "markdown",
   "metadata": {},
   "source": [
    "#### Import necessary packages\n",
    "- BeautifulSoup for pulling data out of HTML and XML files"
   ]
  },
  {
   "cell_type": "code",
   "execution_count": 1,
   "metadata": {},
   "outputs": [],
   "source": [
    "from bs4 import BeautifulSoup as bs\n",
    "import requests"
   ]
  },
  {
   "cell_type": "markdown",
   "metadata": {},
   "source": [
    "### 1. Messing around with one movie and retrive all the information from the wikipedia (Movie info box)"
   ]
  },
  {
   "cell_type": "code",
   "execution_count": 32,
   "metadata": {},
   "outputs": [],
   "source": [
    "# Loading the Webpage\n",
    "p = requests.get('https://en.wikipedia.org/wiki/The_Lion_King_(2019_film)')"
   ]
  },
  {
   "cell_type": "code",
   "execution_count": 34,
   "metadata": {},
   "outputs": [],
   "source": [
    "# Convert into a beautifulsoup object\n",
    "soup = bs(p.content)\n",
    "\n",
    "# Display the content\n",
    "contents =  soup.prettify()\n",
    "#print(contents)"
   ]
  },
  {
   "cell_type": "code",
   "execution_count": 39,
   "metadata": {
    "scrolled": true
   },
   "outputs": [],
   "source": [
    "# Finding the Info box table from the wiki page\n",
    "info_box = soup.find(class_='infobox vevent')\n",
    "info_rows = info_box.find_all('tr')\n",
    "\n",
    "#for row in info_rows:\n",
    "    #print(row.prettify())"
   ]
  },
  {
   "cell_type": "code",
   "execution_count": 40,
   "metadata": {},
   "outputs": [],
   "source": [
    "# Get the list of content from the info box table\n",
    "def get_content_list(row_data):\n",
    "    if row_data.find('li'):\n",
    "        return [li.get_text(' ', strip=True).replace('\\xa0', ' ') for li in row_data.find_all('li')]\n",
    "    else:\n",
    "        return row_data.get_text(' ', strip=True).replace('\\xa0', ' ')\n"
   ]
  },
  {
   "cell_type": "code",
   "execution_count": 41,
   "metadata": {},
   "outputs": [
    {
     "data": {
      "text/plain": [
       "{'title': 'The Lion King',\n",
       " 'Directed by': 'Jon Favreau',\n",
       " 'Produced by': ['Jon Favreau', 'Jeffrey Silver', 'Karen Gilchrist'],\n",
       " 'Screenplay by': 'Jeff Nathanson',\n",
       " 'Based on': [\"Disney 's The Lion King by Irene Mecchi Jonathan Roberts Linda Woolverton [1]\"],\n",
       " 'Starring': ['Donald Glover',\n",
       "  'Seth Rogen',\n",
       "  'Chiwetel Ejiofor',\n",
       "  'Alfre Woodard',\n",
       "  'Billy Eichner',\n",
       "  'John Kani',\n",
       "  'John Oliver',\n",
       "  'Beyoncé Knowles-Carter',\n",
       "  'James Earl Jones'],\n",
       " 'Music by': 'Hans Zimmer',\n",
       " 'Cinematography': 'Caleb Deschanel',\n",
       " 'Edited by': ['Mark Livolsi', 'Adam Gerstel'],\n",
       " 'Production company': ['Walt Disney Pictures', 'Fairview Entertainment'],\n",
       " 'Distributed by': 'Walt Disney Studios Motion Pictures',\n",
       " 'Release date': ['July 9, 2019 ( 2019-07-09 ) ( Hollywood )',\n",
       "  'July 19, 2019 ( 2019-07-19 ) (United States)'],\n",
       " 'Running time': '118 minutes [2]',\n",
       " 'Country': 'United States',\n",
       " 'Language': 'English',\n",
       " 'Budget': '$250–260 million [3] [4]',\n",
       " 'Box office': '$1.657 billion [5]'}"
      ]
     },
     "execution_count": 41,
     "metadata": {},
     "output_type": "execute_result"
    }
   ],
   "source": [
    "# Extract the data from the info box table rows\n",
    "movie_info = dict()\n",
    "\n",
    "for index, row in enumerate(info_rows):\n",
    "    if index==0:\n",
    "        movie_info['title'] = row.find('th').get_text(' ', strip=True)\n",
    "    elif index == 1:\n",
    "        continue\n",
    "    else:\n",
    "        info_key = row.find('th').get_text(' ', strip=True)\n",
    "        info_value = get_content_list(row.find('td'))\n",
    "        movie_info[info_key] = info_value\n",
    "movie_info"
   ]
  },
  {
   "cell_type": "markdown",
   "metadata": {},
   "source": [
    "### 2. Getting all the movies url and title\n",
    "\n",
    "##### Robots exclusion standard for wikipedia can be found [here](https://en.wikipedia.org/wiki/Robots_exclusion_standard)\n"
   ]
  },
  {
   "cell_type": "code",
   "execution_count": 43,
   "metadata": {},
   "outputs": [],
   "source": [
    "# Load the movie list page from the wiki.\n",
    "m = requests.get('https://en.wikipedia.org/wiki/List_of_Walt_Disney_Pictures_films')\n",
    "\n",
    "movies_soup = bs(m.content)\n",
    "\n",
    "# Display the content\n",
    "movies_contents =  movies_soup.prettify()\n",
    "#print(movies_contents)"
   ]
  },
  {
   "cell_type": "code",
   "execution_count": 56,
   "metadata": {},
   "outputs": [
    {
     "name": "stdout",
     "output_type": "stream",
     "text": [
      "/wiki/Academy_Award_Review_of_Walt_Disney_Cartoons\n",
      "Academy Award Review of Walt Disney Cartoons\n"
     ]
    },
    {
     "data": {
      "text/plain": [
       "[<i><a href=\"/wiki/Academy_Award_Review_of_Walt_Disney_Cartoons\" title=\"Academy Award Review of Walt Disney Cartoons\">Academy Award Review of Walt Disney Cartoons</a></i>,\n",
       " <i><a href=\"/wiki/Snow_White_and_the_Seven_Dwarfs_(1937_film)\" title=\"Snow White and the Seven Dwarfs (1937 film)\">Snow White and the Seven Dwarfs</a></i>,\n",
       " <i><a href=\"/wiki/Pinocchio_(1940_film)\" title=\"Pinocchio (1940 film)\">Pinocchio</a></i>,\n",
       " <i><a href=\"/wiki/Fantasia_(1940_film)\" title=\"Fantasia (1940 film)\">Fantasia</a></i>,\n",
       " <i><a href=\"/wiki/The_Reluctant_Dragon_(1941_film)\" title=\"The Reluctant Dragon (1941 film)\">The Reluctant Dragon</a></i>]"
      ]
     },
     "execution_count": 56,
     "metadata": {},
     "output_type": "execute_result"
    }
   ],
   "source": [
    "# Select all the movie list link\n",
    "movies = movies_soup.select('.wikitable.sortable i')\n",
    "print(movies[0].a['href'])\n",
    "print(movies[0].a['title'])\n",
    "movies[0:5]"
   ]
  },
  {
   "cell_type": "code",
   "execution_count": 14,
   "metadata": {},
   "outputs": [],
   "source": [
    "# Get the list of content from the info box table\n",
    "def get_content_list(row_data):\n",
    "    if row_data.find('li'):\n",
    "        return [li.get_text(' ', strip=True).replace('\\xa0', ' ') for li in row_data.find_all('li')]\n",
    "    elif row_data.find('br'):\n",
    "        return [text for text in row_data.stripped_strings]     \n",
    "    else:\n",
    "        return row_data.get_text(' ', strip=True).replace('\\xa0', ' ')\n",
    "    \n",
    "# Clean the references e.g. [1] from the movie list\n",
    "def clean_tags(soup):\n",
    "    for tag in soup.find_all(['sup', 'span']):\n",
    "        tag.decompose()"
   ]
  },
  {
   "cell_type": "code",
   "execution_count": 15,
   "metadata": {},
   "outputs": [],
   "source": [
    "# Extract the data from the info box table \n",
    "def get_info_box(url):\n",
    "    m = requests.get(url)\n",
    "    \n",
    "    movies_soup = bs(m.content)\n",
    "    \n",
    "    info_box = movies_soup.find(class_='infobox vevent')\n",
    "    info_rows = info_box.find_all('tr')\n",
    "    \n",
    "    clean_tags(movies_soup)\n",
    "    \n",
    "    movie_info = dict()\n",
    "    \n",
    "    for index, row in enumerate(info_rows):\n",
    "        if index==0:\n",
    "            movie_info['title'] = row.find('th').get_text(' ', strip=True)\n",
    "        else:\n",
    "            header = row.find('th')\n",
    "            if header:\n",
    "                info_key = row.find('th').get_text(' ', strip=True)\n",
    "                info_value = get_content_list(row.find('td'))\n",
    "                movie_info[info_key] = info_value\n",
    "    return movie_info"
   ]
  },
  {
   "cell_type": "code",
   "execution_count": 57,
   "metadata": {},
   "outputs": [
    {
     "data": {
      "text/plain": [
       "{'title': 'One Little Indian',\n",
       " 'Directed by': 'Bernard McEveety',\n",
       " 'Produced by': 'Winston Hibler',\n",
       " 'Written by': 'Harry Spalding',\n",
       " 'Starring': ['James Garner',\n",
       "  'Vera Miles',\n",
       "  'Pat Hingle',\n",
       "  'Morgan Woodward',\n",
       "  'Jodie Foster'],\n",
       " 'Music by': 'Jerry Goldsmith',\n",
       " 'Cinematography': 'Charles F. Wheeler',\n",
       " 'Edited by': 'Robert Stafford',\n",
       " 'Production company': 'Walt Disney Productions',\n",
       " 'Distributed by': 'Buena Vista Distribution',\n",
       " 'Release date': ['June 20, 1973'],\n",
       " 'Running time': '90 Minutes',\n",
       " 'Country': 'United States',\n",
       " 'Language': 'English',\n",
       " 'Box office': '$2 million'}"
      ]
     },
     "execution_count": 57,
     "metadata": {},
     "output_type": "execute_result"
    }
   ],
   "source": [
    "# Test Movie\n",
    "get_info_box('https://en.wikipedia.org/wiki/One_Little_Indian_(film)')"
   ]
  },
  {
   "cell_type": "code",
   "execution_count": null,
   "metadata": {},
   "outputs": [],
   "source": [
    "m = requests.get('https://en.wikipedia.org/wiki/List_of_Walt_Disney_Pictures_films')\n",
    "\n",
    "movies_soup = bs(m.content)\n",
    "movies = movies_soup.select('.wikitable.sortable i a')\n",
    "base_path = 'https://en.wikipedia.org'\n",
    "movie_info_list = list()\n",
    "\n",
    "for index, movie in enumerate(movies):\n",
    "    try:\n",
    "        relative_path = movie['href']\n",
    "        path = base_path + relative_path\n",
    "        title = movie['title']\n",
    "        print()\n",
    "        \n",
    "        movie_info_list.append(get_info_box(path))\n",
    "        \n",
    "    except Exception as e:\n",
    "        print(movie.get_text())\n",
    "        print(e)\n",
    "        \n",
    "movie_info_list"
   ]
  },
  {
   "cell_type": "code",
   "execution_count": 58,
   "metadata": {},
   "outputs": [
    {
     "data": {
      "text/plain": [
       "437"
      ]
     },
     "execution_count": 58,
     "metadata": {},
     "output_type": "execute_result"
    }
   ],
   "source": [
    "len(movie_info_list)"
   ]
  },
  {
   "cell_type": "markdown",
   "metadata": {},
   "source": [
    "### 3. Save and Load the movie dataset as JSON"
   ]
  },
  {
   "cell_type": "code",
   "execution_count": 59,
   "metadata": {},
   "outputs": [],
   "source": [
    "import json\n",
    "\n",
    "def save_data(title, data):\n",
    "    with open(title, 'w', encoding='utf-8') as f:\n",
    "        json.dump(data, f, ensure_ascii=False, indent=2)"
   ]
  },
  {
   "cell_type": "code",
   "execution_count": 60,
   "metadata": {},
   "outputs": [],
   "source": [
    "def load_data(title):\n",
    "    with open(title, encoding='utf-8') as f:\n",
    "        return json.load(f)"
   ]
  },
  {
   "cell_type": "code",
   "execution_count": 61,
   "metadata": {},
   "outputs": [],
   "source": [
    "save_data('data/disney_movie_data.json', movie_info_list)"
   ]
  },
  {
   "cell_type": "code",
   "execution_count": 62,
   "metadata": {},
   "outputs": [],
   "source": [
    "# Load the data\n",
    "movie_info_list = load_data('data/disney_movie_data.json')"
   ]
  },
  {
   "cell_type": "markdown",
   "metadata": {},
   "source": [
    "### 3. Cleaning the data"
   ]
  },
  {
   "cell_type": "markdown",
   "metadata": {},
   "source": [
    "##### Convert Running time string into int"
   ]
  },
  {
   "cell_type": "code",
   "execution_count": null,
   "metadata": {},
   "outputs": [],
   "source": [
    "# Check all Running time\n",
    "[movie.get('Running time', 'N/A') for movie in movie_info_list]"
   ]
  },
  {
   "cell_type": "code",
   "execution_count": 63,
   "metadata": {},
   "outputs": [],
   "source": [
    "# Convert the running time string to int\n",
    "def convert_minutes_to_int(running_time):\n",
    "    if running_time == 'N/A':\n",
    "        return None\n",
    "    if isinstance(running_time, list):\n",
    "        entry = running_time[0]\n",
    "        return int(entry.split(' ')[0])\n",
    "    else:   \n",
    "        return int(running_time.split(' ')[0])\n",
    "\n",
    "# Add new entry in the movie list as `Running time (int):int64`    \n",
    "for movie in movie_info_list:\n",
    "    movie['Running time (int)'] = convert_minutes_to_int(movie.get('Running time', 'N/A'))"
   ]
  },
  {
   "cell_type": "code",
   "execution_count": 64,
   "metadata": {},
   "outputs": [
    {
     "data": {
      "text/plain": [
       "{'title': 'The Beatles: Get Back',\n",
       " 'Directed by': 'Peter Jackson',\n",
       " 'Produced by': ['Peter Jackson', 'Clare Olssen', 'Jonathan Clyde'],\n",
       " 'Starring': 'The Beatles',\n",
       " 'Music by': 'The Beatles',\n",
       " 'Edited by': 'Jabez Olssen',\n",
       " 'Production companies': ['Walt Disney Pictures',\n",
       "  'Apple Corps',\n",
       "  'WingNut Films'],\n",
       " 'Distributed by': ['Walt Disney Studios', 'Motion Pictures'],\n",
       " 'Release date': ['27 August 2021'],\n",
       " 'Country': ['United Kingdom', 'New Zealand', 'United States'],\n",
       " 'Language': 'English',\n",
       " 'Running time (int)': None}"
      ]
     },
     "execution_count": 64,
     "metadata": {},
     "output_type": "execute_result"
    }
   ],
   "source": [
    "# Check one movie which doesn't have running time\n",
    "movie_info_list[-1]"
   ]
  },
  {
   "cell_type": "markdown",
   "metadata": {},
   "source": [
    "##### Convert Budget and Box office from string to decimal  2.6 million = 2.600000"
   ]
  },
  {
   "cell_type": "code",
   "execution_count": null,
   "metadata": {},
   "outputs": [],
   "source": [
    "[movie.get('Budget', 'N/A') for movie in movie_info_list]"
   ]
  },
  {
   "cell_type": "code",
   "execution_count": null,
   "metadata": {},
   "outputs": [],
   "source": []
  }
 ],
 "metadata": {
  "kernelspec": {
   "display_name": "Python 3",
   "language": "python",
   "name": "python3"
  },
  "language_info": {
   "codemirror_mode": {
    "name": "ipython",
    "version": 3
   },
   "file_extension": ".py",
   "mimetype": "text/x-python",
   "name": "python",
   "nbconvert_exporter": "python",
   "pygments_lexer": "ipython3",
   "version": "3.8.3"
  }
 },
 "nbformat": 4,
 "nbformat_minor": 4
}
