{
 "cells": [
  {
   "cell_type": "markdown",
   "metadata": {},
   "source": [
    "# Linear regression\n",
    "\n",
    "The goal of this exercise is to implement the least mean squares algorithm (LMS) for linear regression seen in the course. \n",
    "\n",
    "We start by importing numpy and matplotlib."
   ]
  },
  {
   "cell_type": "code",
   "execution_count": 1,
   "metadata": {},
   "outputs": [],
   "source": [
    "import numpy as np\n",
    "import matplotlib.pyplot as plt"
   ]
  },
  {
   "cell_type": "markdown",
   "metadata": {},
   "source": [
    "## Least mean squares\n",
    "\n",
    "To generate the data for the exercise, we will use the `scikit-learn` library <https://scikit-learn.org>. It provides a huge selection of already implemented machine learning algorithms for classification, regression or clustering.\n",
    "\n",
    "If you use Anaconda or Colab, `scikit-learn` should already be installed. Otherwise, install it with `pip` (you may need to restart this notebook afterwards):\n",
    "\n",
    "```\n",
    "pip install scikit-learn\n",
    "```\n",
    "\n",
    "We will use the method `sklearn.datasets.make_regression` to generate the data. The documentation of this method is available at <https://scikit-learn.org/stable/modules/generated/sklearn.datasets.make_regression.html>.\n",
    "\n",
    "The following cell imports the method:"
   ]
  },
  {
   "cell_type": "code",
   "execution_count": 2,
   "metadata": {},
   "outputs": [],
   "source": [
    "from sklearn.datasets import make_regression"
   ]
  },
  {
   "cell_type": "markdown",
   "metadata": {},
   "source": [
    "We can now generate the data. We start with the simplest case where the inputs have only one dimension. We will generate 100 samples$(x_i, t_i)$ linked by a linear relationship and some noise.\n",
    "\n",
    "The following code generates the data:"
   ]
  },
  {
   "cell_type": "code",
   "execution_count": 20,
   "metadata": {},
   "outputs": [],
   "source": [
    "N = 100\n",
    "X, t = make_regression(n_samples=N, n_features=1, noise=15.0)"
   ]
  },
  {
   "cell_type": "markdown",
   "metadata": {},
   "source": [
    "`n_samples` is the number of samples generates, `n_features` is the number of input variables and `noise` quantifies how the points deviate from the linear relationship. \n",
    "\n",
    "**Q:** Print the shape of the arrays `X` and `t` to better understand what is generated. Visualize the dataset using matplotlib (`plt.scatter`). Vary the value of the `noise` argument in the previous cell and visualize the data again. "
   ]
  },
  {
   "cell_type": "code",
   "execution_count": 21,
   "metadata": {},
   "outputs": [
    {
     "name": "stdout",
     "output_type": "stream",
     "text": [
      "(100, 1)\n",
      "(100,)\n"
     ]
    },
    {
     "data": {
      "image/png": "[encoded data removed]",
      "text/plain": [
       "<Figure size 720x360 with 1 Axes>"
      ]
     },
     "metadata": {
      "needs_background": "light"
     },
     "output_type": "display_data"
    }
   ],
   "source": [
    "print(X.shape)\n",
    "print(t.shape)\n",
    "\n",
    "plt.figure(figsize=(10,5))\n",
    "plt.scatter(X,t)\n",
    "plt.xlabel('X')\n",
    "plt.ylabel('t')\n",
    "plt.show()"
   ]
  },
  {
   "cell_type": "markdown",
   "metadata": {},
   "source": [
    "Now is the time to implement the LMS algorithm with numpy.\n",
    "\n",
    "Remember the LMS algorithm from the course:\n",
    "\n",
    "* $w=0 \\quad;\\quad b=0$\n",
    "\n",
    "* **for** M epochs:\n",
    "\n",
    "    * $dw=0 \\quad;\\quad db=0$\n",
    "\n",
    "    * **for** each sample $(x_i, t_i)$:\n",
    "\n",
    "        * $y_i = w \\, x_i + b$\n",
    "\n",
    "        * $dw = dw + (t_i - y_i) \\, x_i$\n",
    "\n",
    "        * $db = db + (t_i - y_i)$\n",
    "\n",
    "    * $\\Delta w = \\eta \\, \\frac{1}{N} dw$\n",
    "\n",
    "    * $\\Delta b = \\eta \\, \\frac{1}{N} db$\n",
    "    \n",
    "Our linear model $y = w \\, x + b$ predicts outputs for an input $x$. The error $t-y$ between the prediction and the data is used to adapt the weight $w$ and the bias $b$ at the end of each epoch.\n",
    "\n",
    "**Q:** Implement the LMS algorithm and apply it to the generated data. The Python code that you will write is almost a line-by-line translation of the pseudo-code above. You will use a learning rate `eta = 0.1` at first, but you will vary this value later. Start by running a single epoch, as it will be easier to debug it, and then increase the number of epochs to 100. Print the value of the weight and bias at the end."
   ]
  },
  {
   "cell_type": "code",
   "execution_count": 29,
   "metadata": {
    "scrolled": true
   },
   "outputs": [
    {
     "name": "stdout",
     "output_type": "stream",
     "text": [
      "[66.87919553] [0.40671452]\n"
     ]
    }
   ],
   "source": [
    "w = 0\n",
    "b = 0\n",
    "eta = 0.1\n",
    "\n",
    "for epoch in range(100):\n",
    "    dw = 0\n",
    "    db = 0.0\n",
    "    \n",
    "    for i in range(N):\n",
    "        #prediction\n",
    "        y = w*X[i] +b\n",
    "        #print(y)\n",
    "        \n",
    "        #LMS\n",
    "        dw += (t[i]-y) * X[i]\n",
    "        db += (t[i]-y)\n",
    "    \n",
    "    #parameter updates\n",
    "    w += eta * dw/N\n",
    "    b += eta * db/N\n",
    "\n",
    "print(w,b)"
   ]
  },
  {
   "cell_type": "markdown",
   "metadata": {},
   "source": [
    "**Q:** Visualize the quality of the fit by superposing the learned model to the data with matplotlib. \n",
    "\n",
    "*Tip*: you can get the extreme values of the xaxis with `X.min()` and `X.max()`. To visualize the model, you just need to plot a line between the points `(X.min(), w*X.min()+b)` and `(X.max(), w*X.max()+b)`."
   ]
  },
  {
   "cell_type": "code",
   "execution_count": 35,
   "metadata": {},
   "outputs": [
    {
     "data": {
      "image/png": "[encoded data removed]",
      "text/plain": [
       "<Figure size 720x360 with 1 Axes>"
      ]
     },
     "metadata": {
      "needs_background": "light"
     },
     "output_type": "display_data"
    },
    {
     "name": "stdout",
     "output_type": "stream",
     "text": [
      "[-2.181152056797854, 2.445709216934556]\n",
      "[-145.46698037  163.97377946]\n"
     ]
    }
   ],
   "source": [
    "plt.figure(figsize=(10,5))\n",
    "plt.scatter(X,t)\n",
    "\n",
    "x_axis = [X.min(), X.max()]\n",
    "plt.plot(x_axis, w*x_axis+b)\n",
    "plt.xlabel('X')\n",
    "plt.ylabel('Y')\n",
    "plt.show()\n",
    "\n",
    "\n",
    "\n",
    "print(x_axis)\n",
    "print(w*x_axis+b)"
   ]
  },
  {
   "cell_type": "markdown",
   "metadata": {},
   "source": [
    "Another option is to predict a value for all inputs and plot this vector $y$ against the desired values $t$.\n",
    "\n",
    "**Q:** Make a scatter plot where $t$ is the x-axis and $y = w\\, x + b$ is the y-axis. How should the points be arranged in the ideal case? Also plot what this ideal relationship should be."
   ]
  },
  {
   "cell_type": "code",
   "execution_count": 38,
   "metadata": {},
   "outputs": [
    {
     "data": {
      "image/png": "[encoded data removed]",
      "text/plain": [
       "<Figure size 720x360 with 1 Axes>"
      ]
     },
     "metadata": {
      "needs_background": "light"
     },
     "output_type": "display_data"
    }
   ],
   "source": [
    "plt.figure(figsize=(10,5))\n",
    "plt.scatter(t, w*X+b)\n",
    "\n",
    "x_axis = [t.min(), t.max()]\n",
    "plt.plot(x_axis, x_axis)\n",
    "plt.xlabel('X')\n",
    "plt.ylabel('Y')\n",
    "plt.show()"
   ]
  },
  {
   "cell_type": "markdown",
   "metadata": {},
   "source": [
    "A much better method to analyse the result of the learning algorithm is to track the **mean squared error** (mse) after each epoch, i.e. the loss function which we actually want to minimize. The MSE is defined as:\n",
    "\n",
    "$$\\text{mse} = \\frac{1}{N} \\, \\sum_{i=1}^N (t_i - y_i)^2$$\n",
    "\n",
    "**Q:** Modify your LMS algorithm (either directly or copy it in the next cell) to track the mse after each epoch. After each epoch, append the mse on the training set to a list (initially empty) and plot it at the end. How does the mse evolve? Which value does it get in the end? Why? How many epochs do you actually need?"
   ]
  },
  {
   "cell_type": "code",
   "execution_count": 65,
   "metadata": {},
   "outputs": [
    {
     "name": "stdout",
     "output_type": "stream",
     "text": [
      "[66.87919553] [0.40671452]\n"
     ]
    }
   ],
   "source": [
    "w = 0\n",
    "b = 0\n",
    "eta = .1\n",
    "\n",
    "losses = list()\n",
    "\n",
    "for epoch in range(100):\n",
    "    dw = 0\n",
    "    db = 0.0\n",
    "    mse = 0.0\n",
    "    \n",
    "    for i in range(N):\n",
    "        #prediction\n",
    "        y = w*X[i] +b\n",
    "        #print(y)\n",
    "        \n",
    "        #LMS\n",
    "        dw += (t[i]-y) * X[i]\n",
    "        db += (t[i]-y)\n",
    "        \n",
    "        #mse\n",
    "        mse += (t[i]-y)**2\n",
    "    \n",
    "    #parameter updates\n",
    "    w += eta * dw/N\n",
    "    b += eta * db/N\n",
    "    losses.append(mse/N)\n",
    "\n",
    "print(w,b)"
   ]
  },
  {
   "cell_type": "code",
   "execution_count": 72,
   "metadata": {},
   "outputs": [
    {
     "data": {
      "image/png": "[encoded data removed]",
      "text/plain": [
       "<Figure size 720x360 with 1 Axes>"
      ]
     },
     "metadata": {
      "needs_background": "light"
     },
     "output_type": "display_data"
    }
   ],
   "source": [
    "plt.figure(figsize=(10,5))\n",
    "plt.plot(losses, 'g')\n",
    "plt.xlabel('Epochs')\n",
    "plt.ylabel('MSE')\n",
    "plt.show()"
   ]
  },
  {
   "cell_type": "markdown",
   "metadata": {},
   "source": [
    "Let's now study the influence of the learning rate `eta=0.1` seemed to work, but is it the best value?\n",
    "\n",
    "**Q:** Iterate over multiple values of `eta` using a logarithmic scale and plot the final mse after 100 epochs as a function of the learning rate. Conclude.\n",
    "\n",
    "*Hint:* the logarithmic scale means that you will try values such as $10^{-5}$, $10^{-4}$, $10^{-3}$, etc. until 1.0. In Python, you can either write explictly 0.0001 or use the notation `1e-4`. For the plot, use `np.log10(eta)` to only display the exponent on the X-axis."
   ]
  },
  {
   "cell_type": "code",
   "execution_count": 56,
   "metadata": {},
   "outputs": [
    {
     "name": "stdout",
     "output_type": "stream",
     "text": [
      "[array([4605.03282435]), array([4604.95786665]), array([4604.20836061]), array([4596.72038844]), array([4522.54502192]), array([3846.95976684]), array([898.37025537]), array([268.23469199]), array([268.23468401])]\n"
     ]
    }
   ],
   "source": [
    "losses = list()\n",
    "etas = [1e-8,1e-7,1e-6,1e-5,1e-4,1e-3,1e-2,1e-1,1]\n",
    "for eta in etas:\n",
    "    w = 0\n",
    "    b = 0\n",
    "\n",
    "    for epoch in range(100):\n",
    "        dw = 0\n",
    "        db = 0.0\n",
    "        mse = 0.0\n",
    "\n",
    "        for i in range(N):\n",
    "            #prediction\n",
    "            y = w*X[i] +b\n",
    "            #print(y)\n",
    "\n",
    "            #LMS\n",
    "            dw += (t[i]-y) * X[i]\n",
    "            db += (t[i]-y)\n",
    "            \n",
    "            mse += (t[i] - y)**2\n",
    "\n",
    "        #parameter updates\n",
    "        w += eta * dw/N\n",
    "        b += eta * db/N\n",
    "    losses.append(mse/N)\n",
    "\n",
    "print(losses)"
   ]
  },
  {
   "cell_type": "code",
   "execution_count": 57,
   "metadata": {},
   "outputs": [
    {
     "data": {
      "image/png": "[encoded data removed]",
      "text/plain": [
       "<Figure size 720x360 with 1 Axes>"
      ]
     },
     "metadata": {
      "needs_background": "light"
     },
     "output_type": "display_data"
    },
    {
     "name": "stdout",
     "output_type": "stream",
     "text": [
      "[-18.42068074 -16.11809565 -13.81551056 -11.51292546  -9.21034037\n",
      "  -6.90775528  -4.60517019  -2.30258509   0.        ]\n"
     ]
    }
   ],
   "source": [
    "plt.figure(figsize=(10,5))\n",
    "plt.plot(np.log10(etas), losses)\n",
    "plt.xlabel('Log(eta)')\n",
    "plt.ylabel('MSE')\n",
    "plt.show()\n",
    "print(np.log(etas))"
   ]
  },
  {
   "cell_type": "markdown",
   "metadata": {},
   "source": [
    "## Scikit-learn\n",
    "\n",
    "The code that you have written is functional, but extremely slow, as you use for loops in Python. For so little data samples, it does not make a difference, but if you had millions of samples, this would start to be a problem.\n",
    "\n",
    "The solution is to use optimized implementations of the algorithms, running in C++ or FORTRAN under the hood. We will use here the LMS algorithm provided by `scikit-learn` as you have already installed it and it is very simple to use. Note that one could use tensorflow too, but that would be killing a fly with a sledgehammer.\n",
    "\n",
    "`scikit-learn` provides a `LinearRegression` object that implements LMS. The documentation is at: <https://scikit-learn.org/stable/modules/generated/sklearn.linear_model.LinearRegression.html>.\n",
    "\n",
    "You simply import it with:\n",
    "\n",
    "```python\n",
    "from sklearn.linear_model import LinearRegression\n",
    "```\n",
    "\n",
    "You create the object with:\n",
    "\n",
    "```python\n",
    "reg = LinearRegression()\n",
    "```\n",
    "\n",
    "`reg` is now an object with different methods (`fit()`, `predict()`) that accept any kind of data and performs linear regression. \n",
    "\n",
    "To train the model on the data $(X, t)$, simply use:\n",
    "\n",
    "```python\n",
    "reg.fit(X, t)\n",
    "```\n",
    "\n",
    "The parameters of the model are obtained with `reg.coef_` for $w$ and `reg.intercept_` for $b$. \n",
    "\n",
    "You can predict outputs for new inputs using:\n",
    "\n",
    "```python\n",
    "y = reg.predict(X)\n",
    "```\n",
    "\n",
    "**Q:** Apply linear regression on the data using `scikit-learn`. Check the model parameters after learning and compare them to what you obtained previously. Print the mse and make a plot comparing the predictions with the data."
   ]
  },
  {
   "cell_type": "code",
   "execution_count": 73,
   "metadata": {},
   "outputs": [],
   "source": [
    "from sklearn.linear_model import LinearRegression"
   ]
  },
  {
   "cell_type": "code",
   "execution_count": 74,
   "metadata": {},
   "outputs": [],
   "source": [
    "reg = LinearRegression()"
   ]
  },
  {
   "cell_type": "code",
   "execution_count": 78,
   "metadata": {},
   "outputs": [
    {
     "name": "stdout",
     "output_type": "stream",
     "text": [
      "[66.88175116]\n",
      "0.40623184549214275\n"
     ]
    }
   ],
   "source": [
    "reg.fit(X,t)\n",
    "print(reg.coef_)\n",
    "print(reg.intercept_)"
   ]
  },
  {
   "cell_type": "code",
   "execution_count": 82,
   "metadata": {},
   "outputs": [],
   "source": [
    "y = reg.predict(X)\n",
    "mse = np.mean(t-y)**2"
   ]
  },
  {
   "cell_type": "code",
   "execution_count": 83,
   "metadata": {},
   "outputs": [
    {
     "data": {
      "image/png": "[encoded data removed]",
      "text/plain": [
       "<Figure size 720x360 with 1 Axes>"
      ]
     },
     "metadata": {
      "needs_background": "light"
     },
     "output_type": "display_data"
    }
   ],
   "source": [
    "plt.figure(figsize=(10,5))\n",
    "plt.scatter(t,y)\n",
    "x_axis = [t.min(), t.max()]\n",
    "plt.plot(x_axis, x_axis)\n",
    "plt.xlabel('t')\n",
    "plt.ylabel('y')\n",
    "plt.show()"
   ]
  },
  {
   "cell_type": "markdown",
   "metadata": {},
   "source": [
    "## Delta learning rule\n",
    "\n",
    "Let's now implement the online version of LMS, the **delta learning rule**. The only difference is that the parameter updates are applied immediately after each example is evaluated, not at the end of training. \n",
    "\n",
    "* $w=0 \\quad;\\quad b=0$\n",
    "\n",
    "* **for** M epochs:\n",
    "\n",
    "    * **for** each sample $(x_i, t_i)$:\n",
    "\n",
    "        * $y_i = w \\, x_i + b$\n",
    "\n",
    "        * $\\Delta w = \\eta \\, (t_i - y_i ) \\, x_i$\n",
    "\n",
    "        * $\\Delta b = \\eta \\, (t_i - y_i)$\n",
    "        \n",
    "**Q:** Implement the delta learning rule for the regression problem with `eta = 0.1`. Plot the evolution of the mse and compare it to LMS. "
   ]
  },
  {
   "cell_type": "code",
   "execution_count": 84,
   "metadata": {},
   "outputs": [
    {
     "name": "stdout",
     "output_type": "stream",
     "text": [
      "mse: [291.57702804]\n"
     ]
    }
   ],
   "source": [
    "w = 0\n",
    "b = 0\n",
    "\n",
    "eta = 0.1\n",
    "\n",
    "losses = []\n",
    "for epoch in range(100):\n",
    "    \n",
    "    mse = 0.0\n",
    "    \n",
    "    for i in range(N):\n",
    "        # Prediction\n",
    "        y = w * X[i] + b\n",
    "        \n",
    "        # Delta learning rule\n",
    "        w += eta * (t[i] - y) * X[i]\n",
    "        b += eta * (t[i] - y)\n",
    "        \n",
    "        # mse\n",
    "        mse += (t[i] - y)**2\n",
    "\n",
    "    losses.append(mse/N)\n",
    "    \n",
    "print('mse:', mse/N)"
   ]
  },
  {
   "cell_type": "code",
   "execution_count": 85,
   "metadata": {},
   "outputs": [
    {
     "data": {
      "image/png": "[encoded data removed]",
      "text/plain": [
       "<Figure size 720x360 with 1 Axes>"
      ]
     },
     "metadata": {
      "needs_background": "light"
     },
     "output_type": "display_data"
    }
   ],
   "source": [
    "plt.figure(figsize=(10, 5))\n",
    "plt.plot(losses)\n",
    "plt.xlabel(\"Epochs\")\n",
    "plt.ylabel(\"mse\")\n",
    "plt.show() "
   ]
  },
  {
   "cell_type": "code",
   "execution_count": 86,
   "metadata": {},
   "outputs": [
    {
     "data": {
      "image/png": "[encoded data removed]",
      "text/plain": [
       "<Figure size 720x360 with 1 Axes>"
      ]
     },
     "metadata": {
      "needs_background": "light"
     },
     "output_type": "display_data"
    }
   ],
   "source": [
    "y = w * X + b\n",
    "\n",
    "plt.figure(figsize=(10, 5))\n",
    "\n",
    "plt.scatter(t, y)\n",
    "\n",
    "x_axis = [t.min(), t.max()]\n",
    "plt.plot(x_axis, x_axis)\n",
    "\n",
    "plt.xlabel(\"t\")\n",
    "plt.ylabel(\"y\")\n",
    "plt.show()"
   ]
  },
  {
   "cell_type": "markdown",
   "metadata": {},
   "source": [
    "**Q:** Vary the learning rate logarithmically as for LMS and conclude."
   ]
  },
  {
   "cell_type": "code",
   "execution_count": 87,
   "metadata": {},
   "outputs": [
    {
     "name": "stdout",
     "output_type": "stream",
     "text": [
      "[array([4522.1534622]), array([3843.95910307]), array([898.2965362]), array([268.69348447]), array([272.40552098]), array([291.57702804])]\n"
     ]
    }
   ],
   "source": [
    "losses = []\n",
    "\n",
    "etas = [1e-6, 1e-5, 1e-4, 1e-3, 1e-2, 1e-1]\n",
    "\n",
    "for eta in etas:\n",
    "    \n",
    "    w = 0\n",
    "    b = 0\n",
    "\n",
    "    for epoch in range(100):\n",
    "    \n",
    "        mse = 0.0\n",
    "    \n",
    "        for i in range(N):\n",
    "            # Prediction\n",
    "            y = w * X[i] + b\n",
    "        \n",
    "            # Delta learning rule\n",
    "            w += eta * (t[i] - y) * X[i]\n",
    "            b += eta * (t[i] - y)\n",
    "        \n",
    "            # mse\n",
    "            mse += (t[i] - y)**2\n",
    "\n",
    "    losses.append(mse/N)\n",
    "    \n",
    "print(losses)"
   ]
  },
  {
   "cell_type": "code",
   "execution_count": 88,
   "metadata": {},
   "outputs": [
    {
     "data": {
      "image/png": "[encoded data removed]",
      "text/plain": [
       "<Figure size 720x360 with 1 Axes>"
      ]
     },
     "metadata": {
      "needs_background": "light"
     },
     "output_type": "display_data"
    }
   ],
   "source": [
    "plt.figure(figsize=(10, 5))\n",
    "plt.plot(np.log10(etas), losses)\n",
    "plt.xlabel(\"eta\")\n",
    "plt.ylabel(\"mse\")\n",
    "plt.show()"
   ]
  },
  {
   "cell_type": "markdown",
   "metadata": {},
   "source": [
    "The optimal value of eta is now 0.001, higher learning rates lead to worse mse. One explanation is that the true learning rate of LMS is eta/N = 0.001, not eta=0.1. When using 0.001 for the learning, the delta learning rule behaves exactly like LMS:"
   ]
  }
 ],
 "metadata": {
  "kernelspec": {
   "display_name": "Python 3",
   "language": "python",
   "name": "python3"
  },
  "language_info": {
   "codemirror_mode": {
    "name": "ipython",
    "version": 3
   },
   "file_extension": ".py",
   "mimetype": "text/x-python",
   "name": "python",
   "nbconvert_exporter": "python",
   "pygments_lexer": "ipython3",
   "version": "3.8.3"
  },
  "varInspector": {
   "cols": {
    "lenName": 16,
    "lenType": 16,
    "lenVar": 40
   },
   "kernels_config": {
    "python": {
     "delete_cmd_postfix": "",
     "delete_cmd_prefix": "del ",
     "library": "var_list.py",
     "varRefreshCmd": "print(var_dic_list())"
    },
    "r": {
     "delete_cmd_postfix": ") ",
     "delete_cmd_prefix": "rm(",
     "library": "var_list.r",
     "varRefreshCmd": "cat(var_dic_list()) "
    }
   },
   "position": {
    "height": "400px",
    "left": "1552px",
    "right": "20px",
    "top": "120px",
    "width": "350px"
   },
   "types_to_exclude": [
    "module",
    "function",
    "builtin_function_or_method",
    "instance",
    "_Feature"
   ],
   "window_display": true
  }
 },
 "nbformat": 4,
 "nbformat_minor": 4
}
